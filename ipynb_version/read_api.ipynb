{
 "cells": [
  {
   "cell_type": "code",
   "execution_count": 1,
   "metadata": {
    "scrolled": true
   },
   "outputs": [],
   "source": [
    "import networkx as nx\n",
    "import osmnx as ox\n",
    "import pandas as pd\n",
    "import geopandas as gpd\n",
    "import shapely\n",
    "\n",
    "import wget\n",
    "from osgeo import gdal, ogr\n",
    "import os\n",
    "import momepy\n",
    "from datetime import datetime\n",
    "import re\n",
    "import girs\n",
    "from girs.feat.layers import LayersReader"
   ]
  },
  {
   "cell_type": "code",
   "execution_count": 2,
   "metadata": {},
   "outputs": [
    {
     "name": "stdout",
     "output_type": "stream",
     "text": [
      "Указать точное название населенного пункта, проверить, совпадает ли на OSM\n",
      "Проверить можно на этом сайте:\n",
      "https://osmnames.org/\n",
      "Пример ввода:Yaroslavl,Russia\n",
      "Yaroslavl,Russia\n"
     ]
    }
   ],
   "source": [
    "# place = 'Yaroslavl,Russia'\n",
    "# Petropavlovsk-Kamchatsky\n",
    "#здесь надо указать точное название населенного пункта, проверить, совпадает ли на осм\n",
    "# проверить можно на этом сайте:\n",
    "# https://osmnames.org/\n",
    "str_date = \"{:%Y%m%d_%H%M}\".format(datetime.now())\n",
    "print(\"Указать точное название населенного пункта, проверить, совпадает ли на OSM\")\n",
    "print(\"Проверить можно на этом сайте:\")\n",
    "print(\"https://osmnames.org/\")\n",
    "print(\"Пример ввода:Yaroslavl,Russia\")\n",
    "place = input()"
   ]
  },
  {
   "cell_type": "code",
   "execution_count": 3,
   "metadata": {},
   "outputs": [
    {
     "name": "stdout",
     "output_type": "stream",
     "text": [
      "Найденное значение: Yaroslavl, Yaroslavl Oblast, Central Federal District, Russia\n",
      "Найденное значение верное?y/n\n",
      "y\n"
     ]
    },
    {
     "data": {
      "text/html": [
       "<div>\n",
       "<style scoped>\n",
       "    .dataframe tbody tr th:only-of-type {\n",
       "        vertical-align: middle;\n",
       "    }\n",
       "\n",
       "    .dataframe tbody tr th {\n",
       "        vertical-align: top;\n",
       "    }\n",
       "\n",
       "    .dataframe thead th {\n",
       "        text-align: right;\n",
       "    }\n",
       "</style>\n",
       "<table border=\"1\" class=\"dataframe\">\n",
       "  <thead>\n",
       "    <tr style=\"text-align: right;\">\n",
       "      <th></th>\n",
       "      <th>geometry</th>\n",
       "      <th>place_name</th>\n",
       "      <th>bbox_north</th>\n",
       "      <th>bbox_south</th>\n",
       "      <th>bbox_east</th>\n",
       "      <th>bbox_west</th>\n",
       "    </tr>\n",
       "  </thead>\n",
       "  <tbody>\n",
       "    <tr>\n",
       "      <th>0</th>\n",
       "      <td>POLYGON ((39.73096 57.73762, 39.74265 57.72779...</td>\n",
       "      <td>Yaroslavl, Yaroslavl Oblast, Central Federal D...</td>\n",
       "      <td>57.775275</td>\n",
       "      <td>57.524592</td>\n",
       "      <td>40.003333</td>\n",
       "      <td>39.730964</td>\n",
       "    </tr>\n",
       "  </tbody>\n",
       "</table>\n",
       "</div>"
      ],
      "text/plain": [
       "                                            geometry  \\\n",
       "0  POLYGON ((39.73096 57.73762, 39.74265 57.72779...   \n",
       "\n",
       "                                          place_name  bbox_north  bbox_south  \\\n",
       "0  Yaroslavl, Yaroslavl Oblast, Central Federal D...   57.775275   57.524592   \n",
       "\n",
       "   bbox_east  bbox_west  \n",
       "0  40.003333  39.730964  "
      ]
     },
     "execution_count": 3,
     "metadata": {},
     "output_type": "execute_result"
    }
   ],
   "source": [
    "which_res = 2\n",
    "answer_region = \"ok\"\n",
    "while answer_region != \"y\":\n",
    "    if answer_region == \"n\":\n",
    "        print(\"Введите значение заново:\")\n",
    "        place = input()\n",
    "    try:\n",
    "        gdf_poly = ox.gdf_from_place(place, which_result=which_res)\n",
    "        print(\"Найденное значение:\", gdf_poly.place_name[0])\n",
    "        print(\"Найденное значение верное?y/n\")\n",
    "        answer_region = input()\n",
    "    except (AttributeError):\n",
    "        print(\"Вы ввели:\",place)\n",
    "        print(\"Введено некорректное значение, объект не найден\")\n",
    "        answer_region = \"n\"\n",
    "# \n",
    "\n",
    "# which_result - параметр, который выбирает 1, 2 и тп найденные значения. \n",
    "# чаще всего, 1 - это точка (центр объекта), 2 - полигон (границы объекта)\n",
    "gdf_poly"
   ]
  },
  {
   "cell_type": "code",
   "execution_count": 4,
   "metadata": {},
   "outputs": [
    {
     "name": "stdout",
     "output_type": "stream",
     "text": [
      "Тип геометрии найденного объекта - полигон\n"
     ]
    }
   ],
   "source": [
    "while (isinstance(shapely.geometry.polygon.Polygon(), type(gdf_poly.geometry[0])) == False):\n",
    "#     if(isinstance(shapely.geometry.polygon.Polygon(), type(gdf_poly.geometry[0])) == False):\n",
    "    # if(isinstance(shapely.geometry.polygon.Polygon(), type(gdf_poly.geometry[0].centroid)) == False):\n",
    "    print(\"Тип геометрии найденного объекта - не полигон, возможно, точка (центр объекта)\")\n",
    "    print(\"Был найден тип геометрии объекта под номером:\",which_res)\n",
    "    print(\"Будет произведен поиск другого типа геометрии для этого объекта\")\n",
    "    if which_res == 3:\n",
    "        print(\"Тип геометрии 'полигон' не был найден для этого объекта, уточните объект\")\n",
    "        print(\"Выполнение скрипта будет остановлено\")\n",
    "        exit()\n",
    "        break\n",
    "    if which_res == 1:\n",
    "        which_res = 3\n",
    "    if which_res == 2:\n",
    "        which_res = 1\n",
    "        \n",
    "    gdf_poly = ox.gdf_from_place(place, which_result=which_res)\n",
    "    \n",
    "# \n",
    "print(\"Тип геометрии найденного объекта - полигон\")"
   ]
  },
  {
   "cell_type": "code",
   "execution_count": 5,
   "metadata": {},
   "outputs": [
    {
     "name": "stdout",
     "output_type": "stream",
     "text": [
      "Хотите задать буффер (плюс N метров вокруг полигона) для геометрии?y/n\n",
      "n\n"
     ]
    }
   ],
   "source": [
    "print(\"Хотите задать буффер (плюс N метров вокруг полигона) для геометрии?y/n\")\n",
    "answ_buff = input()\n",
    "if answ_buff == \"y\":\n",
    "    reg = re.compile('[^0-9]')\n",
    "    print(\"Введите число в метрах:\")\n",
    "    buff_dist = input()\n",
    "    buff_dist = int(reg.sub('', buff_dist))\n",
    "#     print(type(buff_dist), buff_dist)\n",
    "    gdf_poly = ox.gdf_from_place(place, which_result=which_res, buffer_dist=buff_dist)"
   ]
  },
  {
   "cell_type": "code",
   "execution_count": 6,
   "metadata": {},
   "outputs": [
    {
     "name": "stdout",
     "output_type": "stream",
     "text": [
      "Хотите сохранить полигон в shp?y/n\n",
      "n\n"
     ]
    }
   ],
   "source": [
    "print(\"Хотите сохранить полигон в shp?y/n\")\n",
    "answ_poly = input()\n",
    "if answ_poly == \"y\":\n",
    "    gdf_poly.to_file('./data/raw/shp/poly/poly_{}_{}.shp'.format(place, str_date), encoding='utf-8')"
   ]
  },
  {
   "cell_type": "code",
   "execution_count": 7,
   "metadata": {},
   "outputs": [
    {
     "name": "stdout",
     "output_type": "stream",
     "text": [
      "Скачиваться будет отсюда:\n",
      "https://overpass-api.de/api/map?bbox=39.7309641,57.524592,40.0033332,57.7752752\n"
     ]
    }
   ],
   "source": [
    "# вот так выглядит ссылка для скачивания вручную:\n",
    "# https://overpass-api.de/api/map?bbox=37.321,56.517,41.232,58.978\n",
    "#это для определения, какие координаты за какую сторону света отвечают в ссылке\n",
    "# west,south,east,north = 37.321,56.517,41.232,58.978 \n",
    "\n",
    "url_new = str(\"https://overpass-api.de/api/map?bbox=\"\n",
    "              +str(gdf_poly.bbox_west[0])+\",\"\n",
    "              +str(gdf_poly.bbox_south[0])+\",\"\n",
    "              +str(gdf_poly.bbox_east[0])+\",\"\n",
    "              +str(gdf_poly.bbox_north[0]))\n",
    "print(\"Скачиваться будет отсюда:\")\n",
    "print(url_new)"
   ]
  },
  {
   "cell_type": "code",
   "execution_count": 8,
   "metadata": {},
   "outputs": [
    {
     "name": "stdout",
     "output_type": "stream",
     "text": [
      "-1 / unknown\n",
      "Скачанный файл:\n",
      "./data/raw/osm/map_Yaroslavl,Russia_20200429_1551.osm\n"
     ]
    }
   ],
   "source": [
    "# с помощью wget можно скачивать большие объемы, например, области\n",
    "filename = wget.download(url_new, out='./data/raw/osm/map_{}_{}.osm'.format(place, str_date))\n",
    "print()\n",
    "print(\"Скачанный файл:\")\n",
    "print(filename)"
   ]
  },
  {
   "cell_type": "code",
   "execution_count": 9,
   "metadata": {
    "scrolled": true
   },
   "outputs": [
    {
     "name": "stdout",
     "output_type": "stream",
     "text": [
      "Слой считан, все ок\n"
     ]
    }
   ],
   "source": [
    "# https://github.com/OSGeo/gdal/blob/master/gdal/data/osmconf.ini\n",
    "# перед запуском сохрани в папку с этим скриптом файл osmconf.ini из ссылки выше\n",
    "\n",
    "driver = ogr.GetDriverByName('OSM')\n",
    "datasource = driver.Open(filename)\n",
    "layer = datasource.GetLayer('lines')\n",
    "if (isinstance(None, type(layer)) == True):\n",
    "    print(\"Ошибка считывания\")\n",
    "else:\n",
    "    print(\"Слой считан, все ок\")\n",
    "\n",
    "os.environ['SHAPE_ENCODING'] = \"utf-8\" #без этого сохраняемый шейп не поддреживает кириллицу, вместо нее - ???\n",
    "drv = ogr.GetDriverByName('ESRI Shapefile')\n",
    "new_name_shp = \"./data/raw/shp/lines/lines_{}_{}.shp\".format(place, str_date)\n",
    "outds = drv.CreateDataSource(new_name_shp)\n",
    "outlyr = outds.CopyLayer(layer, new_name_shp)\n",
    "del outlyr,outds,layer #это нужно, чтобы файл закрылся, данные в него записались и удалились из памяти"
   ]
  },
  {
   "cell_type": "code",
   "execution_count": 10,
   "metadata": {},
   "outputs": [
    {
     "name": "stdout",
     "output_type": "stream",
     "text": [
      "./data/raw/shp/lines/lines_Yaroslavl,Russia_20200429_1551.shp\n"
     ]
    }
   ],
   "source": [
    "print(new_name_shp)"
   ]
  },
  {
   "cell_type": "code",
   "execution_count": 11,
   "metadata": {
    "scrolled": true
   },
   "outputs": [],
   "source": [
    "# сохранение слоя в DF, затем - в CSV\n",
    "# без геометрии, она не сохранятеся таким способом\n",
    "# это сохранение нужно для того, чтобы сохранить всю строку целиком в столбце other_tags\n",
    "# т.к. при сохранении в shp она обрезается на 255 символах, а там часто - больше\n",
    "# http://warsa.de/girs/tutorial/featuresdataframe.html#get-layer-as-pandas-dataframe\n",
    "\n",
    "lrs = LayersReader(filename)\n",
    "df = lrs.data_frame(1) # 1 - это слой lines\n",
    "del lrs\n",
    "# df.head(2)\n",
    "\n",
    "new_df = pd.DataFrame(df).copy().reset_index() #drop - не надо, там многоуровневый header\n",
    "new_df = new_df[['osm_id', 'name', 'highway', 'waterway', 'aerialway', 'barrier', 'man_made', 'other_tags']]\n",
    "new_df.to_csv(\"./data/raw/csv/csv_{}_{}.csv\".format(place, str_date), sep=\";\", encoding=\"utf-8-sig\", index=False)\n",
    "# если кодировка просто utf-8, то сохраняются каракули вместо букв, \n",
    "# а windows-1251 или cp1251 не декодируют какие-то конкретные символы, яхз почему"
   ]
  },
  {
   "cell_type": "code",
   "execution_count": null,
   "metadata": {},
   "outputs": [],
   "source": []
  },
  {
   "cell_type": "code",
   "execution_count": null,
   "metadata": {},
   "outputs": [],
   "source": []
  }
 ],
 "metadata": {
  "kernelspec": {
   "display_name": "Python 3",
   "language": "python",
   "name": "python3"
  },
  "language_info": {
   "codemirror_mode": {
    "name": "ipython",
    "version": 3
   },
   "file_extension": ".py",
   "mimetype": "text/x-python",
   "name": "python",
   "nbconvert_exporter": "python",
   "pygments_lexer": "ipython3",
   "version": "3.7.3"
  }
 },
 "nbformat": 4,
 "nbformat_minor": 2
}
