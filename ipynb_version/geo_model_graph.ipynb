{
 "cells": [
  {
   "cell_type": "code",
   "execution_count": 1,
   "metadata": {},
   "outputs": [],
   "source": [
    "import pandas as pd\n",
    "import numpy as np\n",
    "from datetime import datetime\n",
    "import geopandas as gpd\n",
    "import shapely as shp\n",
    "\n",
    "import os\n",
    "from tqdm.notebook import tqdm\n",
    "\n",
    "# # В случе ошибки RuntimeError: b'no arguments in initialization list'\n",
    "# # необходимо снять комментарии у этого текста\n",
    "# conda_file_dir = conda.__file__\n",
    "# conda_dir = conda_file_dir.split('lib')[0]\n",
    "# proj_lib = os.path.join(os.path.join(conda_dir, 'pkgs'), 'proj4-5.2.0-h6538335_1006\\Library\\share')\n",
    "# os.environ[\"PROJ_LIB\"] = proj_lib\n",
    "\n",
    "# # Если действие выше не помогло, то нужно задать системной переменной PROJ_LIB\n",
    "# # явный путь к окружению по аналогии ниже\n",
    "# Для настройки проекции координат, поменять на свой вариант\n",
    "os.environ ['PROJ_LIB']=r'C:\\Users\\popova_kv\\AppData\\Local\\Continuum\\anaconda3\\Library\\share'\n",
    "\n",
    "#отключить предупреждения pandas (так быстрее считает!!!):\n",
    "pd.options.mode.chained_assignment = None\n",
    "\n",
    "from shapely import wkt\n",
    "from shapely.wkt import loads\n",
    "from shapely.geometry import Point, LineString, mapping, shape\n",
    "from shapely.ops import unary_union\n",
    "\n",
    "import networkx as nx\n",
    "import momepy"
   ]
  },
  {
   "cell_type": "code",
   "execution_count": null,
   "metadata": {},
   "outputs": [],
   "source": []
  },
  {
   "cell_type": "code",
   "execution_count": 26,
   "metadata": {},
   "outputs": [],
   "source": [
    "file_name = 'petr_kamch'\n",
    "read_shp = gpd.read_file(r'./shp/raw/{}.shp'.format(file_name), encoding = 'utf-8', errors='ignore')"
   ]
  },
  {
   "cell_type": "code",
   "execution_count": 27,
   "metadata": {},
   "outputs": [],
   "source": [
    "#  списки ненужных значений, которые надо будет удалить\n",
    "list_highway_notok = ['steps', 'pedestrian', 'footway', 'path', 'raceway', 'road', 'track']\n",
    "# list_other_tags_notok = ['power', 'natural', 'grass', 'wood', 'mud', 'sand', 'admin_level', 'aeroway']\n",
    "\n",
    "# list_waterway = ['riverbank', 'river', 'stream', 'ditch', 'canal',\n",
    "#        'waterbank', 'dam', 'drain']\n",
    "# list_aerialway = ['drag_lift', 'chair_lift', 't-bar']\n",
    "# list_barrier = ['fence', 'retaining_wall', 'wall', '*', 'guard_rail', 'kerb',\n",
    "#        'gate', 'yes', 'bollard', 'lift_gate', 'block', 'handrail']\n",
    "# list_man_made = ['pier', 'gasometer', 'storage_tank', 'pipeline',\n",
    "#        'wastewater_plant', 'survey_point', 'tower', 'water_works',\n",
    "#        'lighthouse', 'embankment']\n",
    "#"
   ]
  },
  {
   "cell_type": "code",
   "execution_count": 28,
   "metadata": {},
   "outputs": [
    {
     "data": {
      "application/vnd.jupyter.widget-view+json": {
       "model_id": "1680f7f8454a4b5fa8f1bb2e6a33df9f",
       "version_major": 2,
       "version_minor": 0
      },
      "text/plain": [
       "HBox(children=(FloatProgress(value=0.0, max=2.0), HTML(value='')))"
      ]
     },
     "metadata": {},
     "output_type": "display_data"
    },
    {
     "data": {
      "application/vnd.jupyter.widget-view+json": {
       "model_id": "81b0c4e69bab44298d2e6a69519887cd",
       "version_major": 2,
       "version_minor": 0
      },
      "text/plain": [
       "HBox(children=(FloatProgress(value=0.0, max=14991.0), HTML(value='')))"
      ]
     },
     "metadata": {},
     "output_type": "display_data"
    },
    {
     "name": "stdout",
     "output_type": "stream",
     "text": [
      "\n"
     ]
    },
    {
     "data": {
      "application/vnd.jupyter.widget-view+json": {
       "model_id": "80157be08f974418b3418336bab467b8",
       "version_major": 2,
       "version_minor": 0
      },
      "text/plain": [
       "HBox(children=(FloatProgress(value=0.0, max=14991.0), HTML(value='')))"
      ]
     },
     "metadata": {},
     "output_type": "display_data"
    },
    {
     "name": "stdout",
     "output_type": "stream",
     "text": [
      "\n",
      "\n"
     ]
    }
   ],
   "source": [
    "# удаление кривых символов в строке (которые не преобразовались по unicode)\n",
    "city_graph = read_shp.copy()\n",
    "\n",
    "list_columns = [city_graph['name'], city_graph['other_tags']]\n",
    "list_new_columns = []\n",
    "for column in tqdm(list_columns):\n",
    "    list_strings = []\n",
    "    for row in tqdm(column):\n",
    "        new_row = row\n",
    "        if (isinstance(bytes(), type(row)) == True):\n",
    "            list_new_values = []\n",
    "            new_value = \"\"\n",
    "            for j in range(len(row)):\n",
    "                try:\n",
    "                    new_value = row[j:j+1].decode() \n",
    "                    # декодирование по одному байтовому символу\n",
    "                except (UnicodeDecodeError, AttributeError):\n",
    "                    try:\n",
    "                        new_value = row[j:j+2].decode() \n",
    "                        # у кириллицы на одну букву два байтовых символа\n",
    "                    except (UnicodeDecodeError, AttributeError):\n",
    "                        new_value = \"\"\n",
    "                list_new_values.append(new_value)\n",
    "            new_string = \"\"\n",
    "            for i in list_new_values:\n",
    "                new_string = new_string+i\n",
    "            if (len(new_string.encode('utf-8')) >= 254): \n",
    "                # максимальная длина строки в shp - 255\n",
    "                new_string = new_string[:254]\n",
    "            new_row = new_string + '\"' #\n",
    "        list_strings.append(new_row)\n",
    "#\n",
    "    list_new_columns.append(list_strings)\n",
    "# \n",
    "# len(list_new_columns[0])\n",
    "city_graph['name'] = list_new_columns[0]\n",
    "city_graph['other_tags'] = list_new_columns[1]\n",
    "#"
   ]
  },
  {
   "cell_type": "code",
   "execution_count": 29,
   "metadata": {},
   "outputs": [
    {
     "name": "stdout",
     "output_type": "stream",
     "text": [
      "2540\n"
     ]
    }
   ],
   "source": [
    "# удаление строк, содержаших ненужные значения\n",
    "city_graph = city_graph[\n",
    "    (city_graph.waterway.isna()) \n",
    "    # только пустые значения подходят == #(~city_graph.aerialway.isin(list_waterway))\n",
    "                       & (city_graph.aerialway.isna()) \n",
    "                       & (city_graph.barrier.isna())\n",
    "                       & (city_graph.man_made.isna())\n",
    "                       & (~city_graph.highway.isin(list_highway_notok))\n",
    "                       & (~city_graph['other_tags'].str.contains(\"natural\", na=False))\n",
    "                       & (~city_graph['other_tags'].str.contains(\"power\", na=False))\n",
    "                       & (~city_graph['other_tags'].str.contains(\"grass\", na=False))\n",
    "                       & (~city_graph['other_tags'].str.contains(\"wood\", na=False))\n",
    "#     & (~(city_graph['other_tags'].str.contains(\"surface\", na=False) & (city_graph.name.isna())))\n",
    "                       & (~city_graph['other_tags'].str.contains(\"mud\", na=False))\n",
    "                       & (~(city_graph['other_tags'].str.contains(\"sand\", na=False) & city_graph.name.isna()))\n",
    "    & (~city_graph['other_tags'].str.contains(\"admin_level\", na=False))\n",
    "    & (~city_graph['other_tags'].str.contains(\"aeroway\", na=False))\n",
    "    & (~city_graph['other_tags'].str.contains(\"piste\", na=False))\n",
    "    & (~city_graph['other_tags'].str.contains(\"building\", na=False))\n",
    "    & (~city_graph['other_tags'].str.contains(\"ferry\", na=False))\n",
    "    & (~city_graph['other_tags'].str.contains(\"land\", na=False))\n",
    "    & (~city_graph['other_tags'].str.contains(\"description\", na=False))\n",
    "    & (~city_graph['other_tags'].str.contains(\"private\", na=False))\n",
    "    & (~city_graph['other_tags'].str.contains(\"leaf_type\", na=False))\n",
    "    & (~city_graph['other_tags'].str.contains('attraction', na=False))\n",
    "#     & (~city_graph['other_tags'].str.contains(\"unpaved\", na=False))\n",
    "    & (~((city_graph.z_order == 0) & (city_graph.name.isna())))\n",
    "    & (~((city_graph.highway == 'service') & (city_graph.name.isna())))\n",
    "                             ].reset_index(drop=True)\n",
    "print(len(city_graph))"
   ]
  },
  {
   "cell_type": "code",
   "execution_count": 30,
   "metadata": {},
   "outputs": [
    {
     "name": "stdout",
     "output_type": "stream",
     "text": [
      "2540\n"
     ]
    }
   ],
   "source": [
    "# фильтр жд и трамвайных путей\n",
    "rail_tram = city_graph[(city_graph['other_tags'].str.contains('=>\"tram\"', na=False))]\n",
    "rail_main = city_graph[(city_graph['other_tags'].str.contains('\"usage\"=>\"main\"', na=False))]\n",
    "\n",
    "city_graph = city_graph[\n",
    "    (~city_graph['other_tags'].str.contains('=>\"rail\"', na=False))\n",
    "    & (~city_graph['other_tags'].str.contains('railway', na=False))\n",
    "                     ]\n",
    "city_graph = city_graph.append(rail_tram)\n",
    "city_graph = city_graph.append(rail_main)\n",
    "\n",
    "city_graph = city_graph.reset_index(drop=True)\n",
    "\n",
    "print(len(city_graph))"
   ]
  },
  {
   "cell_type": "code",
   "execution_count": 31,
   "metadata": {},
   "outputs": [],
   "source": [
    "# #Обработка графа - дробление ребер по перекресткам и создание узлов (nodes)"
   ]
  },
  {
   "cell_type": "code",
   "execution_count": 32,
   "metadata": {},
   "outputs": [
    {
     "name": "stdout",
     "output_type": "stream",
     "text": [
      "4262\n"
     ]
    },
    {
     "data": {
      "text/html": [
       "<div>\n",
       "<style scoped>\n",
       "    .dataframe tbody tr th:only-of-type {\n",
       "        vertical-align: middle;\n",
       "    }\n",
       "\n",
       "    .dataframe tbody tr th {\n",
       "        vertical-align: top;\n",
       "    }\n",
       "\n",
       "    .dataframe thead th {\n",
       "        text-align: right;\n",
       "    }\n",
       "</style>\n",
       "<table border=\"1\" class=\"dataframe\">\n",
       "  <thead>\n",
       "    <tr style=\"text-align: right;\">\n",
       "      <th></th>\n",
       "      <th>geometry</th>\n",
       "    </tr>\n",
       "  </thead>\n",
       "  <tbody>\n",
       "    <tr>\n",
       "      <th>0</th>\n",
       "      <td>LINESTRING (158.18449 52.67218, 158.18586 52.6...</td>\n",
       "    </tr>\n",
       "    <tr>\n",
       "      <th>1</th>\n",
       "      <td>LINESTRING (157.56304 52.60914, 157.56215 52.6...</td>\n",
       "    </tr>\n",
       "  </tbody>\n",
       "</table>\n",
       "</div>"
      ],
      "text/plain": [
       "                                            geometry\n",
       "0  LINESTRING (158.18449 52.67218, 158.18586 52.6...\n",
       "1  LINESTRING (157.56304 52.60914, 157.56215 52.6..."
      ]
     },
     "execution_count": 32,
     "metadata": {},
     "output_type": "execute_result"
    }
   ],
   "source": [
    "# здесь происходит дробление ребер по всем пересечениям (даже на многоуровневых эстакадах)\n",
    "# обработка эстакад будет ниже\n",
    "lines = list(city_graph.geometry)\n",
    "graph = unary_union(lines)\n",
    "res_graph = gpd.GeoDataFrame(graph) \n",
    "# если сделать через geometry=[graph] он делает из графа один большой multilinestring\n",
    "res_graph = res_graph.rename(columns={0:'geometry'})\n",
    "res_graph.crs='epsg:4326'\n",
    "res_graph = res_graph.to_crs('epsg:4326')\n",
    "\n",
    "print(len(res_graph))\n",
    "res_graph.head(2)"
   ]
  },
  {
   "cell_type": "code",
   "execution_count": 33,
   "metadata": {},
   "outputs": [
    {
     "name": "stdout",
     "output_type": "stream",
     "text": [
      "4262\n",
      "4262\n"
     ]
    },
    {
     "data": {
      "text/html": [
       "<div>\n",
       "<style scoped>\n",
       "    .dataframe tbody tr th:only-of-type {\n",
       "        vertical-align: middle;\n",
       "    }\n",
       "\n",
       "    .dataframe tbody tr th {\n",
       "        vertical-align: top;\n",
       "    }\n",
       "\n",
       "    .dataframe thead th {\n",
       "        text-align: right;\n",
       "    }\n",
       "</style>\n",
       "<table border=\"1\" class=\"dataframe\">\n",
       "  <thead>\n",
       "    <tr style=\"text-align: right;\">\n",
       "      <th></th>\n",
       "      <th>geometry</th>\n",
       "      <th>osm_id</th>\n",
       "      <th>name</th>\n",
       "      <th>highway</th>\n",
       "      <th>waterway</th>\n",
       "      <th>aerialway</th>\n",
       "      <th>barrier</th>\n",
       "      <th>man_made</th>\n",
       "      <th>z_order</th>\n",
       "      <th>other_tags</th>\n",
       "    </tr>\n",
       "  </thead>\n",
       "  <tbody>\n",
       "    <tr>\n",
       "      <th>0</th>\n",
       "      <td>LINESTRING (158.18449 52.67218, 158.18586 52.6...</td>\n",
       "      <td>441856825</td>\n",
       "      <td>None</td>\n",
       "      <td>tertiary_link</td>\n",
       "      <td>None</td>\n",
       "      <td>None</td>\n",
       "      <td>None</td>\n",
       "      <td>None</td>\n",
       "      <td>4.0</td>\n",
       "      <td>None</td>\n",
       "    </tr>\n",
       "    <tr>\n",
       "      <th>1</th>\n",
       "      <td>LINESTRING (157.56304 52.60914, 157.56215 52.6...</td>\n",
       "      <td>244496032</td>\n",
       "      <td>None</td>\n",
       "      <td>unclassified</td>\n",
       "      <td>None</td>\n",
       "      <td>None</td>\n",
       "      <td>None</td>\n",
       "      <td>None</td>\n",
       "      <td>3.0</td>\n",
       "      <td>\"surface\"=&gt;\"gravel\"</td>\n",
       "    </tr>\n",
       "  </tbody>\n",
       "</table>\n",
       "</div>"
      ],
      "text/plain": [
       "                                            geometry     osm_id  name  \\\n",
       "0  LINESTRING (158.18449 52.67218, 158.18586 52.6...  441856825  None   \n",
       "1  LINESTRING (157.56304 52.60914, 157.56215 52.6...  244496032  None   \n",
       "\n",
       "         highway waterway aerialway barrier man_made  z_order  \\\n",
       "0  tertiary_link     None      None    None     None      4.0   \n",
       "1   unclassified     None      None    None     None      3.0   \n",
       "\n",
       "            other_tags  \n",
       "0                 None  \n",
       "1  \"surface\"=>\"gravel\"  "
      ]
     },
     "execution_count": 33,
     "metadata": {},
     "output_type": "execute_result"
    }
   ],
   "source": [
    "# подтягивание полей с информацией по пересечению геометрий\n",
    "graph_info = gpd.sjoin(res_graph, city_graph, how='left', \n",
    "                           op='within').drop(\"index_right\", axis=1).reset_index(drop=True)\n",
    "print(len(res_graph))\n",
    "print(len(graph_info))\n",
    "graph_info.head(2)"
   ]
  },
  {
   "cell_type": "code",
   "execution_count": 34,
   "metadata": {},
   "outputs": [],
   "source": [
    "# функция обрезки ребер, \n",
    "# чтобы при пересечении лишние не приклеивались (те, что на концах ребер)\n",
    "def cut(line, distance):\n",
    "    # Cuts a line in two at a distance from its starting point\n",
    "    if distance <= 0.0 or distance >= line.length:\n",
    "        return [LineString(line)]\n",
    "    coords = list(line.coords)\n",
    "    for i, p in enumerate(coords):\n",
    "        pd = line.project(Point(p))\n",
    "        if pd == distance:\n",
    "            return [\n",
    "                LineString(coords[:i+1]),\n",
    "                LineString(coords[i:])]\n",
    "        if pd > distance:\n",
    "            cp = line.interpolate(distance)\n",
    "            return [\n",
    "                LineString(coords[:i] + [(cp.x, cp.y)]),\n",
    "                LineString([(cp.x, cp.y)] + coords[i:])]\n",
    "# \n",
    "# вызов функции два раза - чтобы ребро обрезать с двух сторон\n",
    "def cut_piece(line, start, end):\n",
    "    \"\"\" From a linestring, this cuts a piece of length lgth at distance.\n",
    "    Needs cut(line,distance) func from above ;-) \n",
    "    \"\"\"\n",
    "    precut = cut(line, start)[0]\n",
    "    result = cut(precut, end)[1]\n",
    "#     try:\n",
    "#         result = cut(precut, end)[1]\n",
    "#     except:\n",
    "#         result = precut\n",
    "    return result"
   ]
  },
  {
   "cell_type": "code",
   "execution_count": 35,
   "metadata": {
    "scrolled": true
   },
   "outputs": [
    {
     "data": {
      "application/vnd.jupyter.widget-view+json": {
       "model_id": "b114441929d349cc9368fafb53c320ce",
       "version_major": 2,
       "version_minor": 0
      },
      "text/plain": [
       "HBox(children=(FloatProgress(value=0.0, max=5.0), HTML(value='')))"
      ]
     },
     "metadata": {},
     "output_type": "display_data"
    },
    {
     "name": "stdout",
     "output_type": "stream",
     "text": [
      "\n"
     ]
    }
   ],
   "source": [
    "# вызов функции обрезки\n",
    "# copy_nans_gdf = nans_gdf.copy()\n",
    "copy_graph_info = graph_info.copy()\n",
    "copy_nans_gdf = copy_graph_info[copy_graph_info.osm_id.isna()]\n",
    "\n",
    "list_new_geo = []\n",
    "\n",
    "list_geo_old = list(copy_nans_gdf.to_crs('epsg:32637').geometry) \n",
    "# преобразование - чтобы в метрах отсечь\n",
    "\n",
    "for i in tqdm(range(len(list_geo_old))):\n",
    "    line = list_geo_old[i]\n",
    "    length_line = line.length\n",
    "    start = length_line - 0.05 # это длина в метрах - 0.05 метров\n",
    "    end = length_line - start\n",
    "    cutted_line = cut_piece(line, start, end)\n",
    "    list_new_geo.append(cutted_line)\n",
    "# \n",
    "\n",
    "copy_nans_gdf['new_geo'] = list_new_geo\n",
    "copy_nans_gdf = copy_nans_gdf.rename(columns={'geometry':'old_geo', 'new_geo':'geometry'})\n",
    "del copy_nans_gdf['old_geo']\n",
    "\n",
    "copy_nans_gdf.crs = 'epsg:32637'\n",
    "copy_nans_gdf = copy_nans_gdf.to_crs('epsg:4326')\n"
   ]
  },
  {
   "cell_type": "code",
   "execution_count": 36,
   "metadata": {
    "scrolled": true
   },
   "outputs": [
    {
     "name": "stdout",
     "output_type": "stream",
     "text": [
      "4\n"
     ]
    }
   ],
   "source": [
    "#  здесь реализован поиск многоуровневых эстакад (ребер, и их id)\n",
    "# nans_gdf = graph_info[graph_info.osm_id.isna()]\n",
    "\n",
    "nans_gdf = copy_nans_gdf.copy()\n",
    "\n",
    "nans_gdf_inter_1 = gpd.sjoin(nans_gdf[['geometry']], city_graph, how='left', \n",
    "                           op='intersects').drop(\"index_right\", axis=1).reset_index(drop=True)\n",
    "\n",
    "non_nan_inter = nans_gdf_inter_1[~nans_gdf_inter_1.osm_id.isna()]\n",
    "\n",
    "nan_inter = nans_gdf_inter_1[nans_gdf_inter_1.osm_id.isna()]\n",
    "nans_gdf_buffer = nan_inter.copy()\n",
    "nans_gdf_buffer = nans_gdf_buffer.to_crs('epsg:32637')\n",
    "nans_gdf_buffer['geometry'] = nans_gdf_buffer.geometry.buffer(0.05)\n",
    "nans_gdf_buffer = nans_gdf_buffer.to_crs('epsg:4326')\n",
    "\n",
    "nans_gdf_inter_2 = gpd.sjoin(nans_gdf_buffer[['geometry']], city_graph, how='left', \n",
    "                           op='intersects').drop(\"index_right\", axis=1).reset_index(drop=True)\n",
    "\n",
    "nans_gdf_inter = non_nan_inter.append(nans_gdf_inter_2)\n",
    "\n",
    "list_nans = list(nans_gdf_inter[~nans_gdf_inter.osm_id.isna()].osm_id.unique())\n",
    "print(len(list_nans))"
   ]
  },
  {
   "cell_type": "code",
   "execution_count": 37,
   "metadata": {
    "scrolled": true
   },
   "outputs": [
    {
     "data": {
      "application/vnd.jupyter.widget-view+json": {
       "model_id": "9443f157ff4a4a6b940fe531935f5749",
       "version_major": 2,
       "version_minor": 0
      },
      "text/plain": [
       "HBox(children=(FloatProgress(value=0.0, max=4.0), HTML(value='')))"
      ]
     },
     "metadata": {},
     "output_type": "display_data"
    },
    {
     "name": "stdout",
     "output_type": "stream",
     "text": [
      "\n",
      "4\n"
     ]
    },
    {
     "data": {
      "text/html": [
       "<div>\n",
       "<style scoped>\n",
       "    .dataframe tbody tr th:only-of-type {\n",
       "        vertical-align: middle;\n",
       "    }\n",
       "\n",
       "    .dataframe tbody tr th {\n",
       "        vertical-align: top;\n",
       "    }\n",
       "\n",
       "    .dataframe thead th {\n",
       "        text-align: right;\n",
       "    }\n",
       "</style>\n",
       "<table border=\"1\" class=\"dataframe\">\n",
       "  <thead>\n",
       "    <tr style=\"text-align: right;\">\n",
       "      <th></th>\n",
       "      <th>geometry</th>\n",
       "      <th>osm_id</th>\n",
       "      <th>name</th>\n",
       "      <th>highway</th>\n",
       "      <th>waterway</th>\n",
       "      <th>aerialway</th>\n",
       "      <th>barrier</th>\n",
       "      <th>man_made</th>\n",
       "      <th>z_order</th>\n",
       "      <th>other_tags</th>\n",
       "    </tr>\n",
       "  </thead>\n",
       "  <tbody>\n",
       "    <tr>\n",
       "      <th>0</th>\n",
       "      <td>LINESTRING (158.66004 53.00162, 158.66003 53.0...</td>\n",
       "      <td>94424681</td>\n",
       "      <td>None</td>\n",
       "      <td>secondary</td>\n",
       "      <td>None</td>\n",
       "      <td>None</td>\n",
       "      <td>None</td>\n",
       "      <td>None</td>\n",
       "      <td>6</td>\n",
       "      <td>\"lanes\"=&gt;\"2\",\"lanes:forward\"=&gt;\"2\",\"oneway\"=&gt;\"y...</td>\n",
       "    </tr>\n",
       "    <tr>\n",
       "      <th>1</th>\n",
       "      <td>LINESTRING (158.65903 53.00061, 158.65908 53.0...</td>\n",
       "      <td>94424682</td>\n",
       "      <td>None</td>\n",
       "      <td>secondary</td>\n",
       "      <td>None</td>\n",
       "      <td>None</td>\n",
       "      <td>None</td>\n",
       "      <td>None</td>\n",
       "      <td>26</td>\n",
       "      <td>\"bridge\"=&gt;\"yes\",\"lanes\"=&gt;\"2\",\"lanes:backward\"=...</td>\n",
       "    </tr>\n",
       "  </tbody>\n",
       "</table>\n",
       "</div>"
      ],
      "text/plain": [
       "                                            geometry    osm_id  name  \\\n",
       "0  LINESTRING (158.66004 53.00162, 158.66003 53.0...  94424681  None   \n",
       "1  LINESTRING (158.65903 53.00061, 158.65908 53.0...  94424682  None   \n",
       "\n",
       "     highway waterway aerialway barrier man_made  z_order  \\\n",
       "0  secondary     None      None    None     None        6   \n",
       "1  secondary     None      None    None     None       26   \n",
       "\n",
       "                                          other_tags  \n",
       "0  \"lanes\"=>\"2\",\"lanes:forward\"=>\"2\",\"oneway\"=>\"y...  \n",
       "1  \"bridge\"=>\"yes\",\"lanes\"=>\"2\",\"lanes:backward\"=...  "
      ]
     },
     "execution_count": 37,
     "metadata": {},
     "output_type": "execute_result"
    }
   ],
   "source": [
    "# разбиение ребер, которые пересекают эстакады\n",
    "# но не все между собой, а только те, \n",
    "# которые не входят в эстакаду, потому что ее надо оставить целостной\n",
    "list_nans = list(nans_gdf_inter[~nans_gdf_inter.osm_id.isna()].osm_id.unique())\n",
    "\n",
    "for_one_nan = gpd.GeoDataFrame()\n",
    "\n",
    "\n",
    "for osmid in tqdm(range(len(list_nans))):\n",
    "    osm_id_one = list_nans[osmid]\n",
    "# osm_id_one = '45724863'\n",
    "# one_nan = city_graph[city_graph.osm_id == list_nans[0]].copy()[['geometry']]\n",
    "    one_nan = city_graph[city_graph.osm_id == osm_id_one].copy()[['geometry']]\n",
    "\n",
    "\n",
    "    inter_one_nan = gpd.sjoin(one_nan, city_graph, how='left', \n",
    "                           op='intersects').drop(\"index_right\", axis=1).reset_index(drop=True)\n",
    "    list_inter_one_nan = list(inter_one_nan[~inter_one_nan.osm_id.isna()].osm_id.unique())\n",
    "    # удалить все ребра, с которыми нельзя пересекать\n",
    "    list_good_one = list(set(list_inter_one_nan) - set(list_nans)) \n",
    "    list_good_one.append(osm_id_one) #для unary_union нужно само ребро\n",
    "    unary_one = list(city_graph[city_graph.osm_id.isin(list_good_one)].geometry)\n",
    "\n",
    "    try:\n",
    "        graph_one = unary_union(unary_one)\n",
    "    except (AttributeError):\n",
    "        print(\"except\")\n",
    "        graph_one = unary_one\n",
    "    # \n",
    "    graph_one_res = [graph_one]\n",
    "    gdf_graph_one = gpd.GeoDataFrame(geometry=graph_one_res)\n",
    "    # gdf_graph_one = gdf_graph_one.rename(columns={0:'geometry'})\n",
    "    gdf_graph_one.crs='epsg:4326'\n",
    "    gdf_graph_one = gdf_graph_one.to_crs('epsg:4326')\n",
    "\n",
    "\n",
    "\n",
    "    # разделение мультилиний (разбитое ребро превращается в мультилинию) на отдельные линии\n",
    "    def transf(x):\n",
    "        mapp = mapping(x)\n",
    "        if mapp['type'] == \"MultiLineString\":\n",
    "            y = pd.DataFrame([[x] for x in mapp['coordinates']], columns=['geometry'])\n",
    "        else:\n",
    "            y = pd.DataFrame([[mapping(x)['coordinates']]],columns=['geometry'])\n",
    "        return y\n",
    "    # \n",
    "\n",
    "    ####################\n",
    "    big_df = pd.DataFrame()\n",
    "    # print(len(gdf_graph_one))\n",
    "    for ix, row in gdf_graph_one.iterrows():\n",
    "        big_df = big_df.append(transf(row['geometry']).assign(keys=ix)).reset_index(drop=True)\n",
    "    #\n",
    "    list_geo =[]\n",
    "    for row in big_df.geometry:\n",
    "        lines = LineString(row)\n",
    "        list_geo.append(lines)\n",
    "    big_df['new_geo'] = list_geo\n",
    "    big_df = big_df.rename(columns={'geometry':'geometry_old', 'new_geo':'geometry'})\n",
    "\n",
    "\n",
    "\n",
    "    gdf_graph_one_new = gpd.GeoDataFrame(big_df[['geometry']].copy().reset_index(drop=True))\n",
    "    gdf_graph_one_new.crs='epsg:4326'\n",
    "\n",
    "    graph_one_info = gpd.sjoin(gdf_graph_one_new, city_graph, how='left', \n",
    "                           op='within').drop(\"index_right\", axis=1).reset_index(drop=True)\n",
    "    # print(len(graph_one_info))\n",
    "    graph_one_info = graph_one_info[graph_one_info.osm_id == osm_id_one].reset_index(drop=True)\n",
    "    # print(len(graph_one_info))\n",
    "\n",
    "\n",
    "    for_one_nan = for_one_nan.append(graph_one_info).reset_index(drop=True)\n",
    "#\n",
    "print(len(for_one_nan))\n",
    "for_one_nan.head(2)"
   ]
  },
  {
   "cell_type": "code",
   "execution_count": 38,
   "metadata": {},
   "outputs": [],
   "source": [
    "# объединение все ребер в одни граф, кроме пустых значений и дубликатов\n",
    "list_for_one = list(for_one_nan[~for_one_nan.osm_id.isna()].osm_id.unique())\n",
    "not_nan_graph = graph_info.copy()\n",
    "not_nan_graph = not_nan_graph[(~not_nan_graph.osm_id.isna()) \n",
    "                              & (~not_nan_graph.osm_id.isin(list_for_one))\n",
    "                             ]\n",
    "graph_full = not_nan_graph.append(for_one_nan).reset_index(drop=True)\n",
    "graph_full['z_order'] = graph_full['z_order'].astype(np.int64)"
   ]
  },
  {
   "cell_type": "code",
   "execution_count": 39,
   "metadata": {},
   "outputs": [
    {
     "name": "stdout",
     "output_type": "stream",
     "text": [
      "Name: \n",
      "Type: MultiGraph\n",
      "Number of nodes: 3658\n",
      "Number of edges: 4258\n",
      "Average degree:   2.3280\n"
     ]
    }
   ],
   "source": [
    "# создание графа networkx\n",
    "G = momepy.gdf_to_nx(graph_full, approach='primal')\n",
    "print(nx.info(G))"
   ]
  },
  {
   "cell_type": "code",
   "execution_count": 40,
   "metadata": {},
   "outputs": [
    {
     "name": "stdout",
     "output_type": "stream",
     "text": [
      "Name: \n",
      "Type: MultiGraph\n",
      "Number of nodes: 3497\n",
      "Number of edges: 4152\n",
      "Average degree:   2.3746\n"
     ]
    }
   ],
   "source": [
    "# выбор наибольшего графа из подграфов \n",
    "# (когда ребра удаляются выше, остаются подвешенные куски графа, их надо удалить)\n",
    "cur_graph = G # whatever graph you're working with\n",
    "\n",
    "if not nx.is_connected(cur_graph):\n",
    "    # get a list of unconnected networks\n",
    "    def connected_component_subgraphs(cur_graph):\n",
    "        for c in nx.connected_components(cur_graph):\n",
    "            yield cur_graph.subgraph(c)\n",
    "    sub_graphs = connected_component_subgraphs(cur_graph)\n",
    "    list_graph = []\n",
    "    for i in sub_graphs:\n",
    "        list_graph.append(i)\n",
    "\n",
    "    main_graph = list_graph[0]\n",
    "\n",
    "    # find the largest network in that list\n",
    "    for sg in list_graph:\n",
    "        if len(sg.nodes()) > len(main_graph.nodes()):\n",
    "            main_graph = sg\n",
    "\n",
    "    cur_graph = main_graph\n",
    "    print(nx.info(cur_graph))"
   ]
  },
  {
   "cell_type": "code",
   "execution_count": 41,
   "metadata": {},
   "outputs": [
    {
     "data": {
      "text/html": [
       "<div>\n",
       "<style scoped>\n",
       "    .dataframe tbody tr th:only-of-type {\n",
       "        vertical-align: middle;\n",
       "    }\n",
       "\n",
       "    .dataframe tbody tr th {\n",
       "        vertical-align: top;\n",
       "    }\n",
       "\n",
       "    .dataframe thead th {\n",
       "        text-align: right;\n",
       "    }\n",
       "</style>\n",
       "<table border=\"1\" class=\"dataframe\">\n",
       "  <thead>\n",
       "    <tr style=\"text-align: right;\">\n",
       "      <th></th>\n",
       "      <th>geometry</th>\n",
       "      <th>osm_id</th>\n",
       "      <th>name</th>\n",
       "      <th>highway</th>\n",
       "      <th>waterway</th>\n",
       "      <th>aerialway</th>\n",
       "      <th>barrier</th>\n",
       "      <th>man_made</th>\n",
       "      <th>z_order</th>\n",
       "      <th>other_tags</th>\n",
       "      <th>mm_len</th>\n",
       "      <th>node_start</th>\n",
       "      <th>node_end</th>\n",
       "    </tr>\n",
       "  </thead>\n",
       "  <tbody>\n",
       "    <tr>\n",
       "      <th>0</th>\n",
       "      <td>LINESTRING (158.18449 52.67218, 158.18586 52.6...</td>\n",
       "      <td>441856825</td>\n",
       "      <td>None</td>\n",
       "      <td>tertiary_link</td>\n",
       "      <td>None</td>\n",
       "      <td>None</td>\n",
       "      <td>None</td>\n",
       "      <td>None</td>\n",
       "      <td>4</td>\n",
       "      <td>None</td>\n",
       "      <td>0.021943</td>\n",
       "      <td>1</td>\n",
       "      <td>2</td>\n",
       "    </tr>\n",
       "    <tr>\n",
       "      <th>1</th>\n",
       "      <td>LINESTRING (158.18449 52.67218, 158.18454 52.6...</td>\n",
       "      <td>129875897</td>\n",
       "      <td>None</td>\n",
       "      <td>secondary</td>\n",
       "      <td>None</td>\n",
       "      <td>None</td>\n",
       "      <td>None</td>\n",
       "      <td>None</td>\n",
       "      <td>6</td>\n",
       "      <td>\"surface\"=&gt;\"gravel\"</td>\n",
       "      <td>0.032848</td>\n",
       "      <td>1</td>\n",
       "      <td>5</td>\n",
       "    </tr>\n",
       "  </tbody>\n",
       "</table>\n",
       "</div>"
      ],
      "text/plain": [
       "                                            geometry     osm_id  name  \\\n",
       "0  LINESTRING (158.18449 52.67218, 158.18586 52.6...  441856825  None   \n",
       "1  LINESTRING (158.18449 52.67218, 158.18454 52.6...  129875897  None   \n",
       "\n",
       "         highway waterway aerialway barrier man_made  z_order  \\\n",
       "0  tertiary_link     None      None    None     None        4   \n",
       "1      secondary     None      None    None     None        6   \n",
       "\n",
       "            other_tags    mm_len  node_start  node_end  \n",
       "0                 None  0.021943           1         2  \n",
       "1  \"surface\"=>\"gravel\"  0.032848           1         5  "
      ]
     },
     "execution_count": 41,
     "metadata": {},
     "output_type": "execute_result"
    }
   ],
   "source": [
    "# формирование таблиц из графа и узлов (nodes)\n",
    "nodes, new_graph = momepy.nx_to_gdf(cur_graph)\n",
    "\n",
    "nodes.crs='epsg:4326'\n",
    "nodes = nodes.to_crs('epsg:4326')\n",
    "\n",
    "new_graph.crs='epsg:4326'\n",
    "new_graph = new_graph.to_crs('epsg:4326')\n",
    "new_graph.head(2)"
   ]
  },
  {
   "cell_type": "code",
   "execution_count": null,
   "metadata": {},
   "outputs": [],
   "source": []
  },
  {
   "cell_type": "code",
   "execution_count": 50,
   "metadata": {},
   "outputs": [],
   "source": [
    "# new_graph.to_file('./shp/res/new_graph_{}.shp'.format(file_name), encoding='utf-8')\n",
    "new_graph.to_file('./data/res/edges/new_graph_{}_{:%Y_%m_%d_(%H_%M)}.shp'.format(file_name, datetime.now()), encoding='utf-8')"
   ]
  },
  {
   "cell_type": "code",
   "execution_count": 51,
   "metadata": {},
   "outputs": [],
   "source": [
    "# nodes.to_file('./shp/res/nodes_{}.shp'.format(file_name), encoding='utf-8')\n",
    "nodes.to_file('./data/res/nodes/nodes_{}_{:%Y_%m_%d_(%H_%M)}.shp'.format(file_name, datetime.now()), encoding='utf-8')"
   ]
  },
  {
   "cell_type": "code",
   "execution_count": null,
   "metadata": {},
   "outputs": [],
   "source": []
  },
  {
   "cell_type": "code",
   "execution_count": null,
   "metadata": {},
   "outputs": [],
   "source": []
  },
  {
   "cell_type": "code",
   "execution_count": null,
   "metadata": {},
   "outputs": [],
   "source": []
  }
 ],
 "metadata": {
  "kernelspec": {
   "display_name": "Python 3",
   "language": "python",
   "name": "python3"
  },
  "language_info": {
   "codemirror_mode": {
    "name": "ipython",
    "version": 3
   },
   "file_extension": ".py",
   "mimetype": "text/x-python",
   "name": "python",
   "nbconvert_exporter": "python",
   "pygments_lexer": "ipython3",
   "version": "3.7.3"
  }
 },
 "nbformat": 4,
 "nbformat_minor": 2
}
